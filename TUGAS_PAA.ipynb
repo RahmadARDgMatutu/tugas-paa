{
  "nbformat": 4,
  "nbformat_minor": 0,
  "metadata": {
    "colab": {
      "provenance": [],
      "include_colab_link": true
    },
    "kernelspec": {
      "name": "python3",
      "display_name": "Python 3"
    },
    "language_info": {
      "name": "python"
    }
  },
  "cells": [
    {
      "cell_type": "markdown",
      "metadata": {
        "id": "view-in-github",
        "colab_type": "text"
      },
      "source": [
        "<a href=\"https://colab.research.google.com/github/RahmadARDgMatutu/tugas-paa/blob/main/TUGAS_PAA.ipynb\" target=\"_parent\"><img src=\"https://colab.research.google.com/assets/colab-badge.svg\" alt=\"Open In Colab\"/></a>"
      ]
    },
    {
      "cell_type": "markdown",
      "source": [
        "**BUBBLE SORT**"
      ],
      "metadata": {
        "id": "UCjvnxtxtjk0"
      }
    },
    {
      "cell_type": "code",
      "execution_count": 2,
      "metadata": {
        "colab": {
          "base_uri": "https://localhost:8080/"
        },
        "id": "gqVsYowFtgoH",
        "outputId": "53f6a5d6-45b3-4b2b-b697-5725f2ead7bb"
      },
      "outputs": [
        {
          "output_type": "stream",
          "name": "stdout",
          "text": [
            "[1, 2, 5, 8, 12]\n"
          ]
        }
      ],
      "source": [
        "def bubble_sort(arr):\n",
        "    n = len(arr)\n",
        "    for i in range(n):\n",
        "        swapped = False\n",
        "        for j in range(0, n - i - 1):\n",
        "            if arr[j] > arr[j + 1]:\n",
        "                arr[j], arr[j + 1] = arr[j + 1], arr[j]\n",
        "                swapped = True\n",
        "        if not swapped:\n",
        "            break\n",
        "\n",
        "# Contoh penggunaan\n",
        "arr = [5, 2, 8, 12, 1]\n",
        "bubble_sort(arr)\n",
        "print(arr)"
      ]
    },
    {
      "cell_type": "markdown",
      "source": [
        "**INSERTION SORT**"
      ],
      "metadata": {
        "id": "3W-FcXWttnqp"
      }
    },
    {
      "cell_type": "code",
      "source": [
        "def insertion_sort(arr):\n",
        "    for i in range(1, len(arr)):\n",
        "        key = arr[i]\n",
        "        j = i - 1\n",
        "        while j >= 0 and arr[j] > key:\n",
        "            arr[j + 1] = arr[j]\n",
        "            j -= 1\n",
        "        arr[j + 1] = key\n",
        "\n",
        "# Contoh penggunaan\n",
        "arr = [5, 2, 8, 12, 1]\n",
        "insertion_sort(arr)\n",
        "print(arr)\n"
      ],
      "metadata": {
        "colab": {
          "base_uri": "https://localhost:8080/"
        },
        "id": "_0b45Avctq_s",
        "outputId": "2eecaa9b-6e4d-4c63-9e84-23e21f227edc"
      },
      "execution_count": 3,
      "outputs": [
        {
          "output_type": "stream",
          "name": "stdout",
          "text": [
            "[1, 2, 5, 8, 12]\n"
          ]
        }
      ]
    },
    {
      "cell_type": "markdown",
      "source": [
        "Optimalitas pengurutan algoritma tergantung pada beberapa faktor, seperti ukuran data, karakteristik data, dan kebutuhan sumber daya. Dalam kasus ini, jika kita melihat dari segi kompleksitas waktu, insertion sort memiliki kompleksitas rata-rata O(n^2), sedangkan bubble sort juga memiliki kompleksitas rata-rata O(n^2). Namun, jika data sudah hampir terurut, bubble sort dapat memiliki kinerja yang sedikit lebih baik karena adanya optimasi berupa pengecekan apakah terjadi pertukaran elemen selama iterasi.\n",
        "\n",
        "Namun, secara umum, baik insertion sort maupun bubble sort bukanlah algoritma pengurutan yang optimal untuk kasus-kasus di mana data berukuran besar. Algoritma seperti merge sort, quick sort, atau heapsort biasanya lebih efisien dalam situasi tersebut."
      ],
      "metadata": {
        "id": "_Po8oXm_1_Rf"
      }
    }
  ]
}